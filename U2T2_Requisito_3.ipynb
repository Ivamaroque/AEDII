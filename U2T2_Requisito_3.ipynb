{
  "nbformat": 4,
  "nbformat_minor": 0,
  "metadata": {
    "colab": {
      "provenance": [],
      "toc_visible": true,
      "include_colab_link": true
    },
    "kernelspec": {
      "name": "python3",
      "display_name": "Python 3"
    },
    "language_info": {
      "name": "python"
    }
  },
  "cells": [
    {
      "cell_type": "markdown",
      "metadata": {
        "id": "view-in-github",
        "colab_type": "text"
      },
      "source": [
        "<a href=\"https://colab.research.google.com/github/Ivamaroque/AEDII/blob/main/U2T2_Requisito_3.ipynb\" target=\"_parent\"><img src=\"https://colab.research.google.com/assets/colab-badge.svg\" alt=\"Open In Colab\"/></a>"
      ]
    },
    {
      "cell_type": "markdown",
      "source": [
        "# Requisito 03\n",
        "### Aluno: Ivamar Dantas Roque\n",
        "### Matrícula: 20230000608\n",
        "\n",
        "### Objetivo:\n",
        "**Implementar a tabela no formato markdown junto com a interpretação dos resultados**"
      ],
      "metadata": {
        "id": "H0zEkxP-4lCT"
      }
    },
    {
      "cell_type": "code",
      "execution_count": null,
      "metadata": {
        "id": "mwJcFjOL4f5b"
      },
      "outputs": [],
      "source": [
        "# Bibliotecas\n",
        "import networkx as nx"
      ]
    },
    {
      "cell_type": "code",
      "source": [
        "from networkx.utils.decorators import not_implemented_for\n",
        "\n",
        "__all__ = [\n",
        "    \"number_strongly_connected_components\",\n",
        "    \"strongly_connected_components\",\n",
        "    \"is_strongly_connected\",\n",
        "    \"strongly_connected_components_recursive\",\n",
        "    \"kosaraju_strongly_connected_components\",\n",
        "    \"condensation\",\n",
        "]"
      ],
      "metadata": {
        "id": "idXRo1ZEWL6w"
      },
      "execution_count": null,
      "outputs": []
    },
    {
      "cell_type": "code",
      "source": [
        "# Baixando os datasets das 5 redes escolhidas\n",
        "!wget https://snap.stanford.edu/data/web-BerkStan.txt.gz\n",
        "!wget https://snap.stanford.edu/data/email-EuAll.txt.gz\n",
        "!wget https://snap.stanford.edu/data/web-Google.txt.gz\n",
        "!wget https://snap.stanford.edu/data/wiki-RfA.txt.gz\n",
        "!wget https://snap.stanford.edu/data/amazon0601.txt.gz"
      ],
      "metadata": {
        "id": "LOGlc9fm5sEj",
        "colab": {
          "base_uri": "https://localhost:8080/"
        },
        "outputId": "af712caf-0d33-4cf6-f6cd-83ff1a43edd6"
      },
      "execution_count": null,
      "outputs": [
        {
          "output_type": "stream",
          "name": "stdout",
          "text": [
            "--2023-11-06 01:52:48--  https://snap.stanford.edu/data/web-BerkStan.txt.gz\n",
            "Resolving snap.stanford.edu (snap.stanford.edu)... 171.64.75.80\n",
            "Connecting to snap.stanford.edu (snap.stanford.edu)|171.64.75.80|:443... connected.\n",
            "HTTP request sent, awaiting response... 200 OK\n",
            "Length: 19657604 (19M) [application/x-gzip]\n",
            "Saving to: ‘web-BerkStan.txt.gz.1’\n",
            "\n",
            "web-BerkStan.txt.gz 100%[===================>]  18.75M  6.14MB/s    in 3.1s    \n",
            "\n",
            "2023-11-06 01:52:51 (6.14 MB/s) - ‘web-BerkStan.txt.gz.1’ saved [19657604/19657604]\n",
            "\n",
            "--2023-11-06 01:52:51--  https://snap.stanford.edu/data/email-EuAll.txt.gz\n",
            "Resolving snap.stanford.edu (snap.stanford.edu)... 171.64.75.80\n",
            "Connecting to snap.stanford.edu (snap.stanford.edu)|171.64.75.80|:443... connected.\n",
            "HTTP request sent, awaiting response... 200 OK\n",
            "Length: 1581753 (1.5M) [application/x-gzip]\n",
            "Saving to: ‘email-EuAll.txt.gz.1’\n",
            "\n",
            "email-EuAll.txt.gz. 100%[===================>]   1.51M  1.11MB/s    in 1.4s    \n",
            "\n",
            "2023-11-06 01:52:53 (1.11 MB/s) - ‘email-EuAll.txt.gz.1’ saved [1581753/1581753]\n",
            "\n",
            "--2023-11-06 01:52:53--  https://snap.stanford.edu/data/web-Google.txt.gz\n",
            "Resolving snap.stanford.edu (snap.stanford.edu)... 171.64.75.80\n",
            "Connecting to snap.stanford.edu (snap.stanford.edu)|171.64.75.80|:443... connected.\n",
            "HTTP request sent, awaiting response... 200 OK\n",
            "Length: 21168784 (20M) [application/x-gzip]\n",
            "Saving to: ‘web-Google.txt.gz.1’\n",
            "\n",
            "web-Google.txt.gz.1 100%[===================>]  20.19M  3.22MB/s    in 7.5s    \n",
            "\n",
            "2023-11-06 01:53:01 (2.70 MB/s) - ‘web-Google.txt.gz.1’ saved [21168784/21168784]\n",
            "\n",
            "--2023-11-06 01:53:01--  https://snap.stanford.edu/data/wiki-RfA.txt.gz\n",
            "Resolving snap.stanford.edu (snap.stanford.edu)... 171.64.75.80\n",
            "Connecting to snap.stanford.edu (snap.stanford.edu)|171.64.75.80|:443... connected.\n",
            "HTTP request sent, awaiting response... 200 OK\n",
            "Length: 14936383 (14M) [application/x-gzip]\n",
            "Saving to: ‘wiki-RfA.txt.gz.1’\n",
            "\n",
            "wiki-RfA.txt.gz.1   100%[===================>]  14.24M  4.24MB/s    in 3.4s    \n",
            "\n",
            "2023-11-06 01:53:04 (4.24 MB/s) - ‘wiki-RfA.txt.gz.1’ saved [14936383/14936383]\n",
            "\n",
            "--2023-11-06 01:53:04--  https://snap.stanford.edu/data/amazon0601.txt.gz\n",
            "Resolving snap.stanford.edu (snap.stanford.edu)... 171.64.75.80\n",
            "Connecting to snap.stanford.edu (snap.stanford.edu)|171.64.75.80|:443... connected.\n",
            "HTTP request sent, awaiting response... 200 OK\n",
            "Length: 11807430 (11M) [application/x-gzip]\n",
            "Saving to: ‘amazon0601.txt.gz.1’\n",
            "\n",
            "amazon0601.txt.gz.1 100%[===================>]  11.26M  3.77MB/s    in 3.0s    \n",
            "\n",
            "2023-11-06 01:53:08 (3.77 MB/s) - ‘amazon0601.txt.gz.1’ saved [11807430/11807430]\n",
            "\n"
          ]
        }
      ]
    },
    {
      "cell_type": "code",
      "source": [
        "web_Berkstan= nx.read_edgelist('web-BerkStan.txt.gz', create_using=nx.DiGraph(), data=False)\n",
        "email_EuAll = nx.read_edgelist('email-EuAll.txt.gz', create_using=nx.DiGraph(), data=False)\n",
        "web_Google = nx.read_edgelist('web-Google.txt.gz', create_using=nx.Graph(), data=False)\n",
        "wiki_RfA = nx.read_edgelist('wiki-RfA.txt.gz', create_using=nx.DiGraph(), data=False)\n",
        "amazon0601 = nx.read_edgelist('amazon0601.txt.gz', create_using=nx.DiGraph(), data=False)"
      ],
      "metadata": {
        "id": "PXEMoH_s58eN"
      },
      "execution_count": null,
      "outputs": []
    },
    {
      "cell_type": "markdown",
      "source": [
        "### Atributos de web_Berkstan\n"
      ],
      "metadata": {
        "id": "J3OBOzcy6ALH"
      }
    },
    {
      "cell_type": "code",
      "source": [
        "# Quantidade de vértices\n",
        "nodes_quantity = len(web_Berkstan.nodes())\n",
        "print(f\"A quantidade de vértices da rede web_Berkstan é {nodes_quantity}\")\n",
        "\n",
        "# Quantidade de arestas\n",
        "edges_quantity = len(web_Berkstan.edges())\n",
        "print(f\"A quantidade de arestas da rede web_Berkstan é {edges_quantity}\")\n",
        "\n",
        "# degree_assortativity_coefficient\n",
        "degree_assortativity = nx.degree_assortativity_coefficient(web_Berkstan)\n",
        "print(f\"O degree_assortativity_coefficient da rede web_Berkstan é {degree_assortativity}\")\n",
        "\n",
        "# Número de componentes conectados\n",
        "connected_components = nx.number_strongly_connected_components(web_Berkstan)\n",
        "print(f\"O número de componentes conectados da rede web_Berkstan é {connected_components}\")\n",
        "\n",
        "# Tamanho do GCC\n",
        "gcc = len(max(nx.strongly_connected_components(web_Berkstan), key=len))\n",
        "print(f\"O tamanho do GCC da rede web_Berkstan é {gcc}\")\n",
        "\n",
        "# Coeficiente de clustering\n",
        "clustering_coefficient = nx.average_clustering(web_Berkstan)\n",
        "print(f\"O coeficiente de clustering da rede web_Berkstan é {clustering_coefficient}\")\n"
      ],
      "metadata": {
        "colab": {
          "base_uri": "https://localhost:8080/",
          "height": 460
        },
        "id": "K9LDYA1f5_jh",
        "outputId": "74d601ef-e93b-44d1-a6e9-303edd6c2097"
      },
      "execution_count": null,
      "outputs": [
        {
          "output_type": "stream",
          "name": "stdout",
          "text": [
            "A quantidade de vértices da rede web_Berkstan é 685230\n",
            "A quantidade de arestas da rede web_Berkstan é 7600595\n",
            "O degree_assortativity_coefficient da rede web_Berkstan é -0.1788553259535877\n",
            "O número de componentes conectados da rede web_Berkstan é 109406\n",
            "O tamanho do GCC da rede web_Berkstan é 334857\n"
          ]
        },
        {
          "output_type": "error",
          "ename": "KeyboardInterrupt",
          "evalue": "ignored",
          "traceback": [
            "\u001b[0;31m---------------------------------------------------------------------------\u001b[0m",
            "\u001b[0;31mKeyboardInterrupt\u001b[0m                         Traceback (most recent call last)",
            "\u001b[0;32m<ipython-input-10-031c5eaa9bfa>\u001b[0m in \u001b[0;36m<cell line: 22>\u001b[0;34m()\u001b[0m\n\u001b[1;32m     20\u001b[0m \u001b[0;34m\u001b[0m\u001b[0m\n\u001b[1;32m     21\u001b[0m \u001b[0;31m# Coeficiente de clustering\u001b[0m\u001b[0;34m\u001b[0m\u001b[0;34m\u001b[0m\u001b[0m\n\u001b[0;32m---> 22\u001b[0;31m \u001b[0mclustering_coefficient\u001b[0m \u001b[0;34m=\u001b[0m \u001b[0mnx\u001b[0m\u001b[0;34m.\u001b[0m\u001b[0maverage_clustering\u001b[0m\u001b[0;34m(\u001b[0m\u001b[0mweb_Berkstan\u001b[0m\u001b[0;34m)\u001b[0m\u001b[0;34m\u001b[0m\u001b[0;34m\u001b[0m\u001b[0m\n\u001b[0m\u001b[1;32m     23\u001b[0m \u001b[0mprint\u001b[0m\u001b[0;34m(\u001b[0m\u001b[0;34mf\"O coeficiente de clustering da rede web_Berkstan é {clustering_coefficient}\"\u001b[0m\u001b[0;34m)\u001b[0m\u001b[0;34m\u001b[0m\u001b[0;34m\u001b[0m\u001b[0m\n",
            "\u001b[0;32m/usr/local/lib/python3.10/dist-packages/networkx/utils/backends.py\u001b[0m in \u001b[0;36m__call__\u001b[0;34m(self, backend, *args, **kwargs)\u001b[0m\n\u001b[1;32m    410\u001b[0m         \u001b[0;32mif\u001b[0m \u001b[0;32mnot\u001b[0m \u001b[0mbackends\u001b[0m\u001b[0;34m:\u001b[0m\u001b[0;34m\u001b[0m\u001b[0;34m\u001b[0m\u001b[0m\n\u001b[1;32m    411\u001b[0m             \u001b[0;31m# Fast path if no backends are installed\u001b[0m\u001b[0;34m\u001b[0m\u001b[0;34m\u001b[0m\u001b[0m\n\u001b[0;32m--> 412\u001b[0;31m             \u001b[0;32mreturn\u001b[0m \u001b[0mself\u001b[0m\u001b[0;34m.\u001b[0m\u001b[0morig_func\u001b[0m\u001b[0;34m(\u001b[0m\u001b[0;34m*\u001b[0m\u001b[0margs\u001b[0m\u001b[0;34m,\u001b[0m \u001b[0;34m**\u001b[0m\u001b[0mkwargs\u001b[0m\u001b[0;34m)\u001b[0m\u001b[0;34m\u001b[0m\u001b[0;34m\u001b[0m\u001b[0m\n\u001b[0m\u001b[1;32m    413\u001b[0m \u001b[0;34m\u001b[0m\u001b[0m\n\u001b[1;32m    414\u001b[0m         \u001b[0;31m# Use `backend_name` in this function instead of `backend`\u001b[0m\u001b[0;34m\u001b[0m\u001b[0;34m\u001b[0m\u001b[0m\n",
            "\u001b[0;32m/usr/local/lib/python3.10/dist-packages/networkx/algorithms/cluster.py\u001b[0m in \u001b[0;36maverage_clustering\u001b[0;34m(G, nodes, weight, count_zeros)\u001b[0m\n\u001b[1;32m    304\u001b[0m        \u001b[0mhttps\u001b[0m\u001b[0;34m:\u001b[0m\u001b[0;34m//\u001b[0m\u001b[0marxiv\u001b[0m\u001b[0;34m.\u001b[0m\u001b[0morg\u001b[0m\u001b[0;34m/\u001b[0m\u001b[0mabs\u001b[0m\u001b[0;34m/\u001b[0m\u001b[0;36m0802.2512\u001b[0m\u001b[0;34m\u001b[0m\u001b[0;34m\u001b[0m\u001b[0m\n\u001b[1;32m    305\u001b[0m     \"\"\"\n\u001b[0;32m--> 306\u001b[0;31m     \u001b[0mc\u001b[0m \u001b[0;34m=\u001b[0m \u001b[0mclustering\u001b[0m\u001b[0;34m(\u001b[0m\u001b[0mG\u001b[0m\u001b[0;34m,\u001b[0m \u001b[0mnodes\u001b[0m\u001b[0;34m,\u001b[0m \u001b[0mweight\u001b[0m\u001b[0;34m=\u001b[0m\u001b[0mweight\u001b[0m\u001b[0;34m)\u001b[0m\u001b[0;34m.\u001b[0m\u001b[0mvalues\u001b[0m\u001b[0;34m(\u001b[0m\u001b[0;34m)\u001b[0m\u001b[0;34m\u001b[0m\u001b[0;34m\u001b[0m\u001b[0m\n\u001b[0m\u001b[1;32m    307\u001b[0m     \u001b[0;32mif\u001b[0m \u001b[0;32mnot\u001b[0m \u001b[0mcount_zeros\u001b[0m\u001b[0;34m:\u001b[0m\u001b[0;34m\u001b[0m\u001b[0;34m\u001b[0m\u001b[0m\n\u001b[1;32m    308\u001b[0m         \u001b[0mc\u001b[0m \u001b[0;34m=\u001b[0m \u001b[0;34m[\u001b[0m\u001b[0mv\u001b[0m \u001b[0;32mfor\u001b[0m \u001b[0mv\u001b[0m \u001b[0;32min\u001b[0m \u001b[0mc\u001b[0m \u001b[0;32mif\u001b[0m \u001b[0mabs\u001b[0m\u001b[0;34m(\u001b[0m\u001b[0mv\u001b[0m\u001b[0;34m)\u001b[0m \u001b[0;34m>\u001b[0m \u001b[0;36m0\u001b[0m\u001b[0;34m]\u001b[0m\u001b[0;34m\u001b[0m\u001b[0;34m\u001b[0m\u001b[0m\n",
            "\u001b[0;32m/usr/local/lib/python3.10/dist-packages/networkx/utils/backends.py\u001b[0m in \u001b[0;36m__call__\u001b[0;34m(self, backend, *args, **kwargs)\u001b[0m\n\u001b[1;32m    410\u001b[0m         \u001b[0;32mif\u001b[0m \u001b[0;32mnot\u001b[0m \u001b[0mbackends\u001b[0m\u001b[0;34m:\u001b[0m\u001b[0;34m\u001b[0m\u001b[0;34m\u001b[0m\u001b[0m\n\u001b[1;32m    411\u001b[0m             \u001b[0;31m# Fast path if no backends are installed\u001b[0m\u001b[0;34m\u001b[0m\u001b[0;34m\u001b[0m\u001b[0m\n\u001b[0;32m--> 412\u001b[0;31m             \u001b[0;32mreturn\u001b[0m \u001b[0mself\u001b[0m\u001b[0;34m.\u001b[0m\u001b[0morig_func\u001b[0m\u001b[0;34m(\u001b[0m\u001b[0;34m*\u001b[0m\u001b[0margs\u001b[0m\u001b[0;34m,\u001b[0m \u001b[0;34m**\u001b[0m\u001b[0mkwargs\u001b[0m\u001b[0;34m)\u001b[0m\u001b[0;34m\u001b[0m\u001b[0;34m\u001b[0m\u001b[0m\n\u001b[0m\u001b[1;32m    413\u001b[0m \u001b[0;34m\u001b[0m\u001b[0m\n\u001b[1;32m    414\u001b[0m         \u001b[0;31m# Use `backend_name` in this function instead of `backend`\u001b[0m\u001b[0;34m\u001b[0m\u001b[0;34m\u001b[0m\u001b[0m\n",
            "\u001b[0;32m/usr/local/lib/python3.10/dist-packages/networkx/algorithms/cluster.py\u001b[0m in \u001b[0;36mclustering\u001b[0;34m(G, nodes, weight)\u001b[0m\n\u001b[1;32m    407\u001b[0m         \u001b[0;32melse\u001b[0m\u001b[0;34m:\u001b[0m\u001b[0;34m\u001b[0m\u001b[0;34m\u001b[0m\u001b[0m\n\u001b[1;32m    408\u001b[0m             \u001b[0mtd_iter\u001b[0m \u001b[0;34m=\u001b[0m \u001b[0m_directed_triangles_and_degree_iter\u001b[0m\u001b[0;34m(\u001b[0m\u001b[0mG\u001b[0m\u001b[0;34m,\u001b[0m \u001b[0mnodes\u001b[0m\u001b[0;34m)\u001b[0m\u001b[0;34m\u001b[0m\u001b[0;34m\u001b[0m\u001b[0m\n\u001b[0;32m--> 409\u001b[0;31m             clusterc = {\n\u001b[0m\u001b[1;32m    410\u001b[0m                 \u001b[0mv\u001b[0m\u001b[0;34m:\u001b[0m \u001b[0;36m0\u001b[0m \u001b[0;32mif\u001b[0m \u001b[0mt\u001b[0m \u001b[0;34m==\u001b[0m \u001b[0;36m0\u001b[0m \u001b[0;32melse\u001b[0m \u001b[0mt\u001b[0m \u001b[0;34m/\u001b[0m \u001b[0;34m(\u001b[0m\u001b[0;34m(\u001b[0m\u001b[0mdt\u001b[0m \u001b[0;34m*\u001b[0m \u001b[0;34m(\u001b[0m\u001b[0mdt\u001b[0m \u001b[0;34m-\u001b[0m \u001b[0;36m1\u001b[0m\u001b[0;34m)\u001b[0m \u001b[0;34m-\u001b[0m \u001b[0;36m2\u001b[0m \u001b[0;34m*\u001b[0m \u001b[0mdb\u001b[0m\u001b[0;34m)\u001b[0m \u001b[0;34m*\u001b[0m \u001b[0;36m2\u001b[0m\u001b[0;34m)\u001b[0m\u001b[0;34m\u001b[0m\u001b[0;34m\u001b[0m\u001b[0m\n\u001b[1;32m    411\u001b[0m                 \u001b[0;32mfor\u001b[0m \u001b[0mv\u001b[0m\u001b[0;34m,\u001b[0m \u001b[0mdt\u001b[0m\u001b[0;34m,\u001b[0m \u001b[0mdb\u001b[0m\u001b[0;34m,\u001b[0m \u001b[0mt\u001b[0m \u001b[0;32min\u001b[0m \u001b[0mtd_iter\u001b[0m\u001b[0;34m\u001b[0m\u001b[0;34m\u001b[0m\u001b[0m\n",
            "\u001b[0;32m/usr/local/lib/python3.10/dist-packages/networkx/algorithms/cluster.py\u001b[0m in \u001b[0;36m<dictcomp>\u001b[0;34m(.0)\u001b[0m\n\u001b[1;32m    407\u001b[0m         \u001b[0;32melse\u001b[0m\u001b[0;34m:\u001b[0m\u001b[0;34m\u001b[0m\u001b[0;34m\u001b[0m\u001b[0m\n\u001b[1;32m    408\u001b[0m             \u001b[0mtd_iter\u001b[0m \u001b[0;34m=\u001b[0m \u001b[0m_directed_triangles_and_degree_iter\u001b[0m\u001b[0;34m(\u001b[0m\u001b[0mG\u001b[0m\u001b[0;34m,\u001b[0m \u001b[0mnodes\u001b[0m\u001b[0;34m)\u001b[0m\u001b[0;34m\u001b[0m\u001b[0;34m\u001b[0m\u001b[0m\n\u001b[0;32m--> 409\u001b[0;31m             clusterc = {\n\u001b[0m\u001b[1;32m    410\u001b[0m                 \u001b[0mv\u001b[0m\u001b[0;34m:\u001b[0m \u001b[0;36m0\u001b[0m \u001b[0;32mif\u001b[0m \u001b[0mt\u001b[0m \u001b[0;34m==\u001b[0m \u001b[0;36m0\u001b[0m \u001b[0;32melse\u001b[0m \u001b[0mt\u001b[0m \u001b[0;34m/\u001b[0m \u001b[0;34m(\u001b[0m\u001b[0;34m(\u001b[0m\u001b[0mdt\u001b[0m \u001b[0;34m*\u001b[0m \u001b[0;34m(\u001b[0m\u001b[0mdt\u001b[0m \u001b[0;34m-\u001b[0m \u001b[0;36m1\u001b[0m\u001b[0;34m)\u001b[0m \u001b[0;34m-\u001b[0m \u001b[0;36m2\u001b[0m \u001b[0;34m*\u001b[0m \u001b[0mdb\u001b[0m\u001b[0;34m)\u001b[0m \u001b[0;34m*\u001b[0m \u001b[0;36m2\u001b[0m\u001b[0;34m)\u001b[0m\u001b[0;34m\u001b[0m\u001b[0;34m\u001b[0m\u001b[0m\n\u001b[1;32m    411\u001b[0m                 \u001b[0;32mfor\u001b[0m \u001b[0mv\u001b[0m\u001b[0;34m,\u001b[0m \u001b[0mdt\u001b[0m\u001b[0;34m,\u001b[0m \u001b[0mdb\u001b[0m\u001b[0;34m,\u001b[0m \u001b[0mt\u001b[0m \u001b[0;32min\u001b[0m \u001b[0mtd_iter\u001b[0m\u001b[0;34m\u001b[0m\u001b[0;34m\u001b[0m\u001b[0m\n",
            "\u001b[0;32m/usr/local/lib/python3.10/dist-packages/networkx/algorithms/cluster.py\u001b[0m in \u001b[0;36m_directed_triangles_and_degree_iter\u001b[0;34m(G, nodes)\u001b[0m\n\u001b[1;32m    170\u001b[0m         \u001b[0mdirected_triangles\u001b[0m \u001b[0;34m=\u001b[0m \u001b[0;36m0\u001b[0m\u001b[0;34m\u001b[0m\u001b[0;34m\u001b[0m\u001b[0m\n\u001b[1;32m    171\u001b[0m         \u001b[0;32mfor\u001b[0m \u001b[0mj\u001b[0m \u001b[0;32min\u001b[0m \u001b[0mchain\u001b[0m\u001b[0;34m(\u001b[0m\u001b[0mipreds\u001b[0m\u001b[0;34m,\u001b[0m \u001b[0misuccs\u001b[0m\u001b[0;34m)\u001b[0m\u001b[0;34m:\u001b[0m\u001b[0;34m\u001b[0m\u001b[0;34m\u001b[0m\u001b[0m\n\u001b[0;32m--> 172\u001b[0;31m             \u001b[0mjpreds\u001b[0m \u001b[0;34m=\u001b[0m \u001b[0mset\u001b[0m\u001b[0;34m(\u001b[0m\u001b[0mG\u001b[0m\u001b[0;34m.\u001b[0m\u001b[0m_pred\u001b[0m\u001b[0;34m[\u001b[0m\u001b[0mj\u001b[0m\u001b[0;34m]\u001b[0m\u001b[0;34m)\u001b[0m \u001b[0;34m-\u001b[0m \u001b[0;34m{\u001b[0m\u001b[0mj\u001b[0m\u001b[0;34m}\u001b[0m\u001b[0;34m\u001b[0m\u001b[0;34m\u001b[0m\u001b[0m\n\u001b[0m\u001b[1;32m    173\u001b[0m             \u001b[0mjsuccs\u001b[0m \u001b[0;34m=\u001b[0m \u001b[0mset\u001b[0m\u001b[0;34m(\u001b[0m\u001b[0mG\u001b[0m\u001b[0;34m.\u001b[0m\u001b[0m_succ\u001b[0m\u001b[0;34m[\u001b[0m\u001b[0mj\u001b[0m\u001b[0;34m]\u001b[0m\u001b[0;34m)\u001b[0m \u001b[0;34m-\u001b[0m \u001b[0;34m{\u001b[0m\u001b[0mj\u001b[0m\u001b[0;34m}\u001b[0m\u001b[0;34m\u001b[0m\u001b[0;34m\u001b[0m\u001b[0m\n\u001b[1;32m    174\u001b[0m             directed_triangles += sum(\n",
            "\u001b[0;31mKeyboardInterrupt\u001b[0m: "
          ]
        }
      ]
    },
    {
      "cell_type": "markdown",
      "source": [
        "### Atributos de email_EuAll"
      ],
      "metadata": {
        "id": "bIgPeIDn7HNB"
      }
    },
    {
      "cell_type": "code",
      "source": [
        "# Quantidade de vértices\n",
        "nodes_quantity = len(email_EuAll.nodes())\n",
        "print(f\"A quantidade de vértices na rede email_EuAll é {nodes_quantity}\")\n",
        "\n",
        "# Quantidade de arestas\n",
        "edges_quantity = len(email_EuAll.edges())\n",
        "print(f\"A quantidade de arestas na rede email_EuAll é {edges_quantity}\")\n",
        "\n",
        "# Degree assortativity coefficient\n",
        "degree_assortativity = nx.degree_assortativity_coefficient(email_EuAll)\n",
        "print(f\"O degree assortativity coefficient na rede email_EuAll é {degree_assortativity}\")\n",
        "\n",
        "# Informações sobre a conectividade\n",
        "connected_components = nx.number_strongly_connected_components(email_EuAll)\n",
        "gcc = len(max(nx.strongly_connected_components(email_EuAll), key=len))\n",
        "print(f\"O número de componentes conectados na rede email_EuAll é {connected_components}\")\n",
        "print(f\"O tamanho do GCC na rede email_EuAll é {gcc}\")\n",
        "\n",
        "# Coeficiente de clustering\n",
        "clustering_coefficient = nx.average_clustering(email_EuAll)\n",
        "print(f\"O coeficiente de clustering na rede email_EuAll é {clustering_coefficient}\")"
      ],
      "metadata": {
        "colab": {
          "base_uri": "https://localhost:8080/"
        },
        "id": "dtlU_M7D7FFc",
        "outputId": "cc98e894-b3fc-4338-a56d-6149de0731ee"
      },
      "execution_count": null,
      "outputs": [
        {
          "output_type": "stream",
          "name": "stdout",
          "text": [
            "A quantidade de vértices na rede email_EuAll é 265214\n",
            "A quantidade de arestas na rede email_EuAll é 420045\n",
            "O degree assortativity coefficient na rede email_EuAll é -0.21041150055155367\n",
            "O número de componentes conectados na rede email_EuAll é 231000\n",
            "O tamanho do GCC na rede email_EuAll é 34203\n",
            "O coeficiente de clustering na rede email_EuAll é 0.056465531555997504\n"
          ]
        }
      ]
    },
    {
      "cell_type": "markdown",
      "source": [
        "### Atributos de web_Google"
      ],
      "metadata": {
        "id": "JFuLQ70b8zBw"
      }
    },
    {
      "cell_type": "code",
      "source": [
        "# Quantidade de vértices\n",
        "nodes_quantity = len(web_Google.nodes())\n",
        "print(f\"A quantidade de vértices na rede web_Google é {nodes_quantity}\")\n",
        "\n",
        "# Quantidade de arestas\n",
        "edges_quantity = len(web_Google.edges())\n",
        "print(f\"A quantidade de arestas na rede web_Google é {edges_quantity}\")\n",
        "\n",
        "# Degree assortativity coefficient\n",
        "degree_assortativity = nx.degree_assortativity_coefficient(web_Google)\n",
        "print(f\"O degree assortativity coefficient na rede web_Google é {degree_assortativity}\")\n",
        "\n",
        "# Número de componentes conectados\n",
        "connected_components = list(nx.connected_components(web_Google))\n",
        "num_connected_components = len(connected_components)\n",
        "print(f\"O número de componentes conectados na rede web_Google é {num_connected_components}\")\n",
        "\n",
        "# Tamanho do GCC (Maior Componente Conectado)\n",
        "gcc = max(connected_components, key=len)\n",
        "gcc_size = len(gcc)\n",
        "print(f\"O tamanho do GCC na rede web_Google é {gcc_size}\")\n",
        "\n",
        "# Coeficiente de clustering\n",
        "clustering_coefficient = nx.average_clustering(web_Google)\n",
        "print(f\"O coeficiente de clustering na rede web_Google é {clustering_coefficient}\")"
      ],
      "metadata": {
        "colab": {
          "base_uri": "https://localhost:8080/"
        },
        "id": "7-OY6T378zLT",
        "outputId": "909d8306-e879-480b-dca0-9b587d48e6e5"
      },
      "execution_count": null,
      "outputs": [
        {
          "output_type": "stream",
          "name": "stdout",
          "text": [
            "A quantidade de vértices na rede web_Google é 875713\n",
            "A quantidade de arestas na rede web_Google é 4322051\n",
            "O degree assortativity coefficient na rede web_Google é -0.05508895972321737\n",
            "O número de componentes conectados na rede web_Google é 2746\n",
            "O tamanho do GCC na rede web_Google é 855802\n",
            "O coeficiente de clustering na rede web_Google é 0.5142961475354184\n"
          ]
        }
      ]
    },
    {
      "cell_type": "markdown",
      "source": [
        "### Atibutos de wiki_RfA"
      ],
      "metadata": {
        "id": "l9-HR0pR9fun"
      }
    },
    {
      "cell_type": "code",
      "source": [
        "# Quantidade de vértices\n",
        "nodes_quantity = len(wiki_RfA.nodes())\n",
        "print(f\"A quantidade de vértices na rede wiki_RfA é {nodes_quantity}\")\n",
        "\n",
        "# Quantidade de arestas\n",
        "edges_quantity = len(wiki_RfA.edges())\n",
        "print(f\"A quantidade de arestas na rede wiki_RfA é {edges_quantity}\")\n",
        "\n",
        "# Degree assortativity coefficient\n",
        "degree_assortativity = nx.degree_assortativity_coefficient(wiki_RfA)\n",
        "print(f\"O degree assortativity coefficient na rede wiki_RfA é {degree_assortativity}\")\n",
        "\n",
        "# Informações sobre a conectividade\n",
        "connected_components = nx.number_strongly_connected_components(wiki_RfA)\n",
        "gcc = len(max(nx.strongly_connected_components(wiki_RfA), key=len))\n",
        "print(f\"O número de componentes conectados na rede wiki_RfA é {connected_components}\")\n",
        "print(f\"O tamanho do GCC na rede wiki_RfA é {gcc}\")\n",
        "\n",
        "# Coeficiente de clustering\n",
        "clustering_coefficient = nx.average_clustering(wiki_RfA)\n",
        "print(f\"O coeficiente de clustering na rede wiki_RfA é {clustering_coefficient}\")"
      ],
      "metadata": {
        "colab": {
          "base_uri": "https://localhost:8080/"
        },
        "id": "_PEJ7PjU9lPo",
        "outputId": "81634beb-abd7-4a04-ed59-4b960306bd9d"
      },
      "execution_count": null,
      "outputs": [
        {
          "output_type": "stream",
          "name": "stdout",
          "text": [
            "A quantidade de vértices na rede wiki_RfA é 26255\n",
            "A quantidade de arestas na rede wiki_RfA é 81702\n",
            "O degree assortativity coefficient na rede wiki_RfA é -0.40334730444192296\n",
            "O número de componentes conectados na rede wiki_RfA é 26255\n",
            "O tamanho do GCC na rede wiki_RfA é 1\n",
            "O coeficiente de clustering na rede wiki_RfA é 0.0\n"
          ]
        }
      ]
    },
    {
      "cell_type": "markdown",
      "source": [
        "### Atributos de amazon0601"
      ],
      "metadata": {
        "id": "QXynFmeO-V5k"
      }
    },
    {
      "cell_type": "code",
      "source": [
        "# Quantidade de vértices\n",
        "nodes_quantity = len(amazon0601.nodes())\n",
        "print(f\"A quantidade de vértices na rede amazon0601 é {nodes_quantity}\")\n",
        "\n",
        "# Quantidade de arestas\n",
        "edges_quantity = len(amazon0601.edges())\n",
        "print(f\"A quantidade de arestas na rede amazon0601 é {edges_quantity}\")\n",
        "\n",
        "# Degree assortativity coefficient\n",
        "degree_assortativity = nx.degree_assortativity_coefficient(amazon0601)\n",
        "print(f\"O degree assortativity coefficient na rede amazon0601 é {degree_assortativity}\")\n",
        "\n",
        "# Informações sobre a conectividade\n",
        "connected_components = nx.number_strongly_connected_components(amazon0601)\n",
        "gcc = len(max(nx.strongly_connected_components(amazon0601), key=len))\n",
        "print(f\"O número de componentes conectados na rede amazon0601 é {connected_components}\")\n",
        "print(f\"O tamanho do GCC na rede amazon0601 é {gcc}\")\n",
        "\n",
        "# Coeficiente de clustering\n",
        "clustering_coefficient = nx.average_clustering(amazon0601)\n",
        "print(f\"O coeficiente de clustering na rede amazon0601 é {clustering_coefficient}\")"
      ],
      "metadata": {
        "colab": {
          "base_uri": "https://localhost:8080/"
        },
        "id": "cvefrLRN-Za_",
        "outputId": "400e6711-9757-4ae2-fa09-4e952157b09b"
      },
      "execution_count": null,
      "outputs": [
        {
          "output_type": "stream",
          "name": "stdout",
          "text": [
            "A quantidade de vértices na rede amazon0601 é 403394\n",
            "A quantidade de arestas na rede amazon0601 é 3387388\n",
            "O degree assortativity coefficient na rede amazon0601 é -0.04353522746406418\n",
            "O número de componentes conectados na rede amazon0601 é 1588\n",
            "O tamanho do GCC na rede amazon0601 é 395234\n",
            "O coeficiente de clustering na rede amazon0601 é 0.3646879271657948\n"
          ]
        }
      ]
    }
  ]
}